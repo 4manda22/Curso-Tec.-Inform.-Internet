{
 "cells": [
  {
   "cell_type": "code",
   "execution_count": null,
   "metadata": {},
   "outputs": [],
   "source": [
    "# Questão 1\n",
    "\n",
    "contador = 1\n",
    "total = 0\n",
    "\n",
    "while contador <= 5:\n",
    "    contador = contador + 1\n",
    "    valor = int(input(\"Digite um número\"))\n",
    "    print(valor)\n",
    "    if valor % 2 == 0:\n",
    "        total = total + valor\n",
    "print(f\"O valor total da soma dos números pares é: {total}\")\n"
   ]
  }
 ],
 "metadata": {
  "kernelspec": {
   "display_name": "Python 3",
   "language": "python",
   "name": "python3"
  },
  "language_info": {
   "codemirror_mode": {
    "name": "ipython",
    "version": 3
   },
   "file_extension": ".py",
   "mimetype": "text/x-python",
   "name": "python",
   "nbconvert_exporter": "python",
   "pygments_lexer": "ipython3",
   "version": "3.11.2"
  }
 },
 "nbformat": 4,
 "nbformat_minor": 2
}
